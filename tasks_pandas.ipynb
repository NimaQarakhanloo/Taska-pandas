{
 "cells": [
  {
   "cell_type": "markdown",
   "id": "e6930031",
   "metadata": {},
   "source": [
    "# task 1:"
   ]
  },
  {
   "cell_type": "code",
   "execution_count": 54,
   "id": "2bf6d14e",
   "metadata": {},
   "outputs": [
    {
     "data": {
      "text/plain": [
       "['0,73.847017017515,241.893563180437\\n',\n",
       " '0,68.7819040458903,162.310472521300\\n',\n",
       " '0,74.1101053917849,212.7408555565\\n',\n",
       " '0,71.7309784033377,220.042470303077\\n',\n",
       " '0,69.8817958611153,206.349800623871\\n']"
      ]
     },
     "execution_count": 54,
     "metadata": {},
     "output_type": "execute_result"
    }
   ],
   "source": [
    "with open('weight-height.csv','r') as file:\n",
    "    data=file.readlines()\n",
    "    \n",
    "columnsName=data.pop(0)\n",
    "\n",
    "'''\n",
    "first row is colunms name and we add it in another time\n",
    "'''\n",
    "\n",
    "def BinarySex(arr:list)->list:\n",
    "\n",
    "    for i,element in enumerate(arr):\n",
    "        element=element.split(',')\n",
    "        first_element=element[0].replace('\"','')\n",
    "        \n",
    "        if first_element=='Male':\n",
    "            element[0]='0'\n",
    "            \n",
    "        elif first_element=='Female':\n",
    "            element[0]='1'\n",
    "            \n",
    "        arr[i]=','.join(element)\n",
    "    return arr\n",
    "\n",
    "data=BinarySex(data)\n",
    "data[:5]"
   ]
  },
  {
   "cell_type": "markdown",
   "id": "7485a00d",
   "metadata": {},
   "source": [
    "# task 2:"
   ]
  },
  {
   "cell_type": "code",
   "execution_count": 73,
   "id": "0c58884e",
   "metadata": {},
   "outputs": [
    {
     "name": "stdout",
     "output_type": "stream",
     "text": [
      "AFTER CHANGE :\n"
     ]
    },
    {
     "data": {
      "text/html": [
       "<div>\n",
       "<style scoped>\n",
       "    .dataframe tbody tr th:only-of-type {\n",
       "        vertical-align: middle;\n",
       "    }\n",
       "\n",
       "    .dataframe tbody tr th {\n",
       "        vertical-align: top;\n",
       "    }\n",
       "\n",
       "    .dataframe thead th {\n",
       "        text-align: right;\n",
       "    }\n",
       "</style>\n",
       "<table border=\"1\" class=\"dataframe\">\n",
       "  <thead>\n",
       "    <tr style=\"text-align: right;\">\n",
       "      <th></th>\n",
       "      <th>Gender</th>\n",
       "      <th>weight</th>\n",
       "      <th>Height</th>\n",
       "    </tr>\n",
       "  </thead>\n",
       "  <tbody>\n",
       "    <tr>\n",
       "      <th>2052</th>\n",
       "      <td>0</td>\n",
       "      <td>69.212777</td>\n",
       "      <td>188.947625</td>\n",
       "    </tr>\n",
       "    <tr>\n",
       "      <th>1372</th>\n",
       "      <td>0</td>\n",
       "      <td>65.343203</td>\n",
       "      <td>155.729380</td>\n",
       "    </tr>\n",
       "    <tr>\n",
       "      <th>5258</th>\n",
       "      <td>1</td>\n",
       "      <td>64.676879</td>\n",
       "      <td>131.182148</td>\n",
       "    </tr>\n",
       "    <tr>\n",
       "      <th>2988</th>\n",
       "      <td>0</td>\n",
       "      <td>67.616383</td>\n",
       "      <td>165.955953</td>\n",
       "    </tr>\n",
       "    <tr>\n",
       "      <th>5307</th>\n",
       "      <td>1</td>\n",
       "      <td>60.911771</td>\n",
       "      <td>131.710813</td>\n",
       "    </tr>\n",
       "  </tbody>\n",
       "</table>\n",
       "</div>"
      ],
      "text/plain": [
       "      Gender     weight      Height\n",
       "2052       0  69.212777  188.947625\n",
       "1372       0  65.343203  155.729380\n",
       "5258       1  64.676879  131.182148\n",
       "2988       0  67.616383  165.955953\n",
       "5307       1  60.911771  131.710813"
      ]
     },
     "execution_count": 73,
     "metadata": {},
     "output_type": "execute_result"
    }
   ],
   "source": [
    "import pandas as pd\n",
    "\n",
    "df=pd.read_csv('weight-height.csv')\n",
    "'''\n",
    "data have some issue and we change the columns name to true thing\n",
    "'''\n",
    "df.columns=['Gender','weight','Height']\n",
    "\n",
    "df['Gender']=df['Gender'].apply(lambda x: 0 if x == 'Male' else 1)\n",
    "print('AFTER CHANGE :')\n",
    "df.sample(5)"
   ]
  },
  {
   "cell_type": "markdown",
   "id": "66bcb342",
   "metadata": {},
   "source": [
    "# task 3:"
   ]
  },
  {
   "cell_type": "code",
   "execution_count": 84,
   "id": "a59a5b78",
   "metadata": {},
   "outputs": [
    {
     "data": {
      "text/plain": [
       "<BarContainer object of 2 artists>"
      ]
     },
     "execution_count": 84,
     "metadata": {},
     "output_type": "execute_result"
    },
    {
     "data": {
      "image/png": "[encoded data removed]",
      "text/plain": [
       "<Figure size 1296x576 with 2 Axes>"
      ]
     },
     "metadata": {
      "needs_background": "light"
     },
     "output_type": "display_data"
    }
   ],
   "source": [
    "import pandas as pd\n",
    "import matplotlib.pyplot as plt\n",
    "\n",
    "df=pd.read_csv('weight-height.csv')\n",
    "'''\n",
    "data have some issue and we change the columns name to true thing\n",
    "'''\n",
    "df.columns=['Gender','weight','Height']\n",
    "\n",
    "Sum=df.groupby('Gender').sum()['weight']\n",
    "avg=df.groupby('Gender').mean()['weight']\n",
    "\n",
    "fig,axs=plt.subplots(1,2,figsize=(18,8))\n",
    "axs[0].bar(Sum.index,Sum,color=['red','green'])\n",
    "\n",
    "axs[1].bar(avg.index,avg,color=['red','green'])"
   ]
  },
  {
   "cell_type": "markdown",
   "id": "e2db049e",
   "metadata": {},
   "source": [
    "# task 4:"
   ]
  },
  {
   "cell_type": "code",
   "execution_count": 90,
   "id": "f9c2470d",
   "metadata": {},
   "outputs": [
    {
     "data": {
      "text/plain": [
       "sex\n",
       "Male      3256.82\n",
       "Female    1570.95\n",
       "Name: total_bill, dtype: float64"
      ]
     },
     "execution_count": 90,
     "metadata": {},
     "output_type": "execute_result"
    }
   ],
   "source": [
    "import pandas as pd\n",
    "from seaborn import load_dataset\n",
    "df=load_dataset('tips')\n",
    "df.head()\n",
    "df.groupby('sex').sum()['total_bill']"
   ]
  },
  {
   "cell_type": "markdown",
   "id": "6f566382",
   "metadata": {},
   "source": [
    "# task 5:"
   ]
  },
  {
   "cell_type": "code",
   "execution_count": 92,
   "id": "b61a6c86",
   "metadata": {},
   "outputs": [
    {
     "data": {
      "text/plain": [
       "time\n",
       "Lunch     1167.47\n",
       "Dinner    3660.30\n",
       "Name: total_bill, dtype: float64"
      ]
     },
     "execution_count": 92,
     "metadata": {},
     "output_type": "execute_result"
    }
   ],
   "source": [
    "import pandas as pd\n",
    "from seaborn import load_dataset\n",
    "df=load_dataset('tips')\n",
    "\n",
    "def GroupBy_meals(data:pd.DataFrame , meals_column_name:str , target_column:str):\n",
    "    return data.groupby(meals_column_name).sum()[target_column]\n",
    "GroupBy_meals(df,'time','total_bill')"
   ]
  },
  {
   "cell_type": "markdown",
   "id": "74388480",
   "metadata": {},
   "source": [
    "# task 6 :"
   ]
  },
  {
   "cell_type": "code",
   "execution_count": 116,
   "id": "32ff8dd2",
   "metadata": {},
   "outputs": [
    {
     "data": {
      "text/plain": [
       "day\n",
       "Thur    27.0%\n",
       "Fri     79.0%\n",
       "Sat     48.0%\n",
       "Sun     25.0%\n",
       "Name: smoker, dtype: object"
      ]
     },
     "execution_count": 116,
     "metadata": {},
     "output_type": "execute_result"
    }
   ],
   "source": [
    "import pandas as pd\n",
    "from seaborn import load_dataset\n",
    "df=load_dataset('tips')\n",
    "\n",
    "df['smoker']=df['smoker'].apply(lambda x: 0 if x == 'No' else 1).astype(int)\n",
    "\n",
    "(df.groupby('day').mean()['smoker']*100).round().astype(str)+'%'"
   ]
  },
  {
   "cell_type": "markdown",
   "id": "5c248425",
   "metadata": {},
   "source": [
    "# task 7:"
   ]
  },
  {
   "cell_type": "code",
   "execution_count": 122,
   "id": "4ced5d63",
   "metadata": {},
   "outputs": [
    {
     "name": "stdout",
     "output_type": "stream",
     "text": [
      "{'00': 1919.7499999999998, '01': 1337.0700000000002, '10': 977.6799999999998, '11': 593.27}\n"
     ]
    }
   ],
   "source": [
    "import pandas as pd\n",
    "from seaborn import load_dataset\n",
    "df=load_dataset('tips')\n",
    "\n",
    "df['smoker']=df['smoker'].apply(lambda x: 0 if x == 'No' else 1).astype(str)\n",
    "df['sex']=df['sex'].apply(lambda x: 0 if x == 'Male' else 1).astype(int)\n",
    "\n",
    "'''\n",
    "encrypting : 00: male who is not smoker,\n",
    "            11: female who is smoker ,\n",
    "            10: femmale who is not smoker,\n",
    "            01: male who is smoker\n",
    "'''\n",
    "def compute(data:pd.DataFrame):\n",
    "    results={'00':0,'01':0,'10':0,'11':0}\n",
    "    for i in range(len(data)):\n",
    "        sex=str(data.iloc[i]['sex'])\n",
    "        smoke=str(data.iloc[i]['smoker'])\n",
    "        total=sex+smoke\n",
    "        results[total]+=data.iloc[i]['total_bill']\n",
    "    return results\n",
    "print(compute(df))"
   ]
  }
 ],
 "metadata": {
  "kernelspec": {
   "display_name": "Python 3 (ipykernel)",
   "language": "python",
   "name": "python3"
  },
  "language_info": {
   "codemirror_mode": {
    "name": "ipython",
    "version": 3
   },
   "file_extension": ".py",
   "mimetype": "text/x-python",
   "name": "python",
   "nbconvert_exporter": "python",
   "pygments_lexer": "ipython3",
   "version": "3.10.4"
  }
 },
 "nbformat": 4,
 "nbformat_minor": 5
}
